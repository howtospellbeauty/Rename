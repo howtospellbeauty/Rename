{
 "cells": [
  {
   "cell_type": "code",
   "execution_count": 2,
   "metadata": {},
   "outputs": [],
   "source": [
    "import os"
   ]
  },
  {
   "cell_type": "code",
   "execution_count": 9,
   "metadata": {},
   "outputs": [
    {
     "name": "stdout",
     "output_type": "stream",
     "text": [
      "./Test/Hand0.JPG\n",
      "./Test/Hand1.JPG\n"
     ]
    }
   ],
   "source": [
    "pic_ind = 0\n",
    "for file in os.listdir('./Test/'):\n",
    "    # if file[0]=='.':\n",
    "    #     continue\n",
    "    file_path = os.path.join(\"./Test/\", file)\n",
    "    pict_form = file.split('.')[1]\n",
    "    new_path = os.path.join(\"./Test/\", 'Hand' + str(pic_ind) + f'.{pict_form}')\n",
    "    os.rename(file_path, new_path)\n",
    "    pic_ind += 1\n",
    "    print(file_path)\n"
   ]
  },
  {
   "cell_type": "code",
   "execution_count": null,
   "metadata": {},
   "outputs": [],
   "source": []
  }
 ],
 "metadata": {
  "interpreter": {
   "hash": "818c1e2f2abef96ad992515e31967b5176c58061eafdba5943729c1c5f31c6df"
  },
  "kernelspec": {
   "display_name": "Python 3.9.0 ('py39_pytorch')",
   "language": "python",
   "name": "python3"
  },
  "language_info": {
   "codemirror_mode": {
    "name": "ipython",
    "version": 3
   },
   "file_extension": ".py",
   "mimetype": "text/x-python",
   "name": "python",
   "nbconvert_exporter": "python",
   "pygments_lexer": "ipython3",
   "version": "3.9.0"
  },
  "orig_nbformat": 4
 },
 "nbformat": 4,
 "nbformat_minor": 2
}
