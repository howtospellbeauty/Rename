{
 "cells": [
  {
   "cell_type": "code",
   "execution_count": 2,
   "metadata": {},
   "outputs": [],
   "source": [
    "import os"
   ]
  },
  {
   "cell_type": "code",
   "execution_count": 2,
   "metadata": {},
   "outputs": [
    {
     "ename": "FileExistsError",
     "evalue": "[WinError 183] 当文件已存在时，无法创建该文件。: './Rtest/R0.JPG' -> './Rtest/R1.JPG'",
     "output_type": "error",
     "traceback": [
      "\u001b[1;31m---------------------------------------------------------------------------\u001b[0m",
      "\u001b[1;31mFileExistsError\u001b[0m                           Traceback (most recent call last)",
      "\u001b[1;32me:\\workspace\\python\\hand\\rename.ipynb Cell 2'\u001b[0m in \u001b[0;36m<cell line: 2>\u001b[1;34m()\u001b[0m\n\u001b[0;32m      <a href='vscode-notebook-cell:/e%3A/workspace/python/hand/rename.ipynb#ch0000001?line=5'>6</a>\u001b[0m pict_form \u001b[39m=\u001b[39m file\u001b[39m.\u001b[39msplit(\u001b[39m'\u001b[39m\u001b[39m.\u001b[39m\u001b[39m'\u001b[39m)[\u001b[39m1\u001b[39m]\n\u001b[0;32m      <a href='vscode-notebook-cell:/e%3A/workspace/python/hand/rename.ipynb#ch0000001?line=6'>7</a>\u001b[0m new_path \u001b[39m=\u001b[39m os\u001b[39m.\u001b[39mpath\u001b[39m.\u001b[39mjoin(\u001b[39m\"\u001b[39m\u001b[39m./Rtest/\u001b[39m\u001b[39m\"\u001b[39m, \u001b[39m'\u001b[39m\u001b[39mR\u001b[39m\u001b[39m'\u001b[39m \u001b[39m+\u001b[39m \u001b[39mstr\u001b[39m(pic_ind) \u001b[39m+\u001b[39m \u001b[39mf\u001b[39m\u001b[39m'\u001b[39m\u001b[39m.\u001b[39m\u001b[39m{\u001b[39;00mpict_form\u001b[39m}\u001b[39;00m\u001b[39m'\u001b[39m)\n\u001b[1;32m----> <a href='vscode-notebook-cell:/e%3A/workspace/python/hand/rename.ipynb#ch0000001?line=7'>8</a>\u001b[0m os\u001b[39m.\u001b[39;49mrename(file_path, new_path)\n\u001b[0;32m      <a href='vscode-notebook-cell:/e%3A/workspace/python/hand/rename.ipynb#ch0000001?line=8'>9</a>\u001b[0m pic_ind \u001b[39m+\u001b[39m\u001b[39m=\u001b[39m \u001b[39m1\u001b[39m\n\u001b[0;32m     <a href='vscode-notebook-cell:/e%3A/workspace/python/hand/rename.ipynb#ch0000001?line=9'>10</a>\u001b[0m \u001b[39mprint\u001b[39m(file_path)\n",
      "\u001b[1;31mFileExistsError\u001b[0m: [WinError 183] 当文件已存在时，无法创建该文件。: './Rtest/R0.JPG' -> './Rtest/R1.JPG'"
     ]
    }
   ],
   "source": [
    "pic_ind = 0\n",
    "for file in os.listdir('./Rtest/'):\n",
    "    # if file[0]=='.':\n",
    "    #     continue\n",
    "    file_path = os.path.join(\"./Rtest/\", file)\n",
    "    pict_form = file.split('.')[1]\n",
    "    new_path = os.path.join(\"./Rtest/\", 'R' + str(pic_ind) + f'.{pict_form}')\n",
    "    os.rename(file_path, new_path)\n",
    "    pic_ind += 1\n",
    "    print(file_path)\n"
   ]
  },
  {
   "cell_type": "code",
   "execution_count": null,
   "metadata": {},
   "outputs": [],
   "source": []
  }
 ],
 "metadata": {
  "interpreter": {
   "hash": "818c1e2f2abef96ad992515e31967b5176c58061eafdba5943729c1c5f31c6df"
  },
  "kernelspec": {
   "display_name": "Python 3.9.0 ('py39_pytorch')",
   "language": "python",
   "name": "python3"
  },
  "language_info": {
   "codemirror_mode": {
    "name": "ipython",
    "version": 3
   },
   "file_extension": ".py",
   "mimetype": "text/x-python",
   "name": "python",
   "nbconvert_exporter": "python",
   "pygments_lexer": "ipython3",
   "version": "3.9.0"
  },
  "orig_nbformat": 4
 },
 "nbformat": 4,
 "nbformat_minor": 2
}
